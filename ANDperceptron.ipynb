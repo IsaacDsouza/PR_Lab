{
  "nbformat": 4,
  "nbformat_minor": 0,
  "metadata": {
    "colab": {
      "provenance": []
    },
    "kernelspec": {
      "name": "python3",
      "display_name": "Python 3"
    },
    "language_info": {
      "name": "python"
    }
  },
  "cells": [
    {
      "cell_type": "code",
      "execution_count": 1,
      "metadata": {
        "id": "Fis64fKX51gS"
      },
      "outputs": [],
      "source": [
        "import numpy as np"
      ]
    },
    {
      "cell_type": "code",
      "source": [
        "X = np.array([[0, 0], [0, 1], [1, 0], [1, 1]])\n",
        "y = np.array([0, 0, 0, 1])\n",
        "weights, bias, lr = np.zeros(2), 0, 0.1"
      ],
      "metadata": {
        "id": "58XSmJdm551u"
      },
      "execution_count": 2,
      "outputs": []
    },
    {
      "cell_type": "code",
      "source": [
        "\n",
        "for _ in range(10):\n",
        "    for i in range(len(X)):\n",
        "        pred = int(np.dot(X[i], weights) + bias > 0)\n",
        "        error = y[i] - pred\n",
        "        weights += lr * error * X[i]\n",
        "        bias += lr * error"
      ],
      "metadata": {
        "id": "05uDoCf557si"
      },
      "execution_count": 3,
      "outputs": []
    },
    {
      "cell_type": "code",
      "source": [
        "for i in X:\n",
        "    print(f\"Input: {i}, Prediction: {int(np.dot(i, weights) + bias > 0)}\")"
      ],
      "metadata": {
        "id": "CdsNMX5Q59aS",
        "outputId": "21bf3480-5f0b-43f4-8c28-dfd690fbd0b1",
        "colab": {
          "base_uri": "https://localhost:8080/"
        }
      },
      "execution_count": 4,
      "outputs": [
        {
          "output_type": "stream",
          "name": "stdout",
          "text": [
            "Input: [0 0], Prediction: 0\n",
            "Input: [0 1], Prediction: 0\n",
            "Input: [1 0], Prediction: 0\n",
            "Input: [1 1], Prediction: 1\n"
          ]
        }
      ]
    },
    {
      "cell_type": "code",
      "source": [],
      "metadata": {
        "id": "4L9CBeka5--e"
      },
      "execution_count": null,
      "outputs": []
    }
  ]
}