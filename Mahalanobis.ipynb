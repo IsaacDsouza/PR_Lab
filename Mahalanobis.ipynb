{
  "nbformat": 4,
  "nbformat_minor": 0,
  "metadata": {
    "colab": {
      "provenance": []
    },
    "kernelspec": {
      "name": "python3",
      "display_name": "Python 3"
    },
    "language_info": {
      "name": "python"
    }
  },
  "cells": [
    {
      "cell_type": "code",
      "execution_count": 1,
      "metadata": {
        "id": "b1KARKOo48zr"
      },
      "outputs": [],
      "source": [
        "import numpy as np\n",
        "from scipy.spatial.distance import mahalanobis"
      ]
    },
    {
      "cell_type": "code",
      "source": [
        "def mahalanobis_distance(poly1, poly2):\n",
        "    c1, c2 = np.mean(poly1, axis=0), np.mean(poly2, axis=0)\n",
        "    cov = np.cov(np.vstack((poly1, poly2)).T)\n",
        "    try:\n",
        "        inv_cov = np.linalg.inv(cov)\n",
        "    except np.linalg.LinAlgError:\n",
        "        raise ValueError(\"Singular covariance matrix. Ensure polygons are not collinear.\")\n",
        "    return mahalanobis(c1, c2, inv_cov)\n"
      ],
      "metadata": {
        "id": "CBkcirxl5FOX"
      },
      "execution_count": 2,
      "outputs": []
    },
    {
      "cell_type": "code",
      "source": [
        "def get_polygon(n):\n",
        "    return [tuple(map(float, p.split())) for p in input(f\"Polygon {n} (x y, ...): \").split(',')]\n",
        "\n",
        "try:\n",
        "    print(\"Mahalanobis Distance:\", mahalanobis_distance(get_polygon(1), get_polygon(2)))\n",
        "except Exception as e:\n",
        "    print(\"Error:\", e)"
      ],
      "metadata": {
        "colab": {
          "base_uri": "https://localhost:8080/"
        },
        "id": "cgbvYVBs5RPr",
        "outputId": "5168d04b-7c09-4ef1-d7f7-2b6ceacf849e"
      },
      "execution_count": 9,
      "outputs": [
        {
          "output_type": "stream",
          "name": "stdout",
          "text": [
            "Polygon 1 (x y, ...): 1 2, 2 3, 3 1\n",
            "Polygon 2 (x y, ...): 5 6, 6 7, 7 5\n",
            "Mahalanobis Distance: 1.7888543819998317\n"
          ]
        }
      ]
    },
    {
      "cell_type": "code",
      "source": [],
      "metadata": {
        "id": "PjXl8q1C5TzL"
      },
      "execution_count": null,
      "outputs": []
    }
  ]
}