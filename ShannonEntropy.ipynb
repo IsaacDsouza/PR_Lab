{
  "nbformat": 4,
  "nbformat_minor": 0,
  "metadata": {
    "colab": {
      "provenance": []
    },
    "kernelspec": {
      "name": "python3",
      "display_name": "Python 3"
    },
    "language_info": {
      "name": "python"
    }
  },
  "cells": [
    {
      "cell_type": "code",
      "execution_count": 1,
      "metadata": {
        "id": "qe3-YadO4Xrv"
      },
      "outputs": [],
      "source": [
        "import math\n",
        "import pandas as pd\n",
        "from collections import Counter"
      ]
    },
    {
      "cell_type": "code",
      "source": [
        "def shannon_entropy(data):\n",
        "    total = len(data)\n",
        "    return -sum((count / total) * math.log2(count / total) for count in Counter(data).values())\n"
      ],
      "metadata": {
        "id": "bsbJXJ604gYs"
      },
      "execution_count": 2,
      "outputs": []
    },
    {
      "cell_type": "code",
      "source": [
        "df = pd.read_csv(\"https://raw.githubusercontent.com/datasciencedojo/datasets/master/titanic.csv\")\n",
        "col = input(f\"Select column {df.columns.tolist()}: \")\n",
        "print(f\"Shannon Entropy of '{col}': {shannon_entropy(df[col])}\" if col in df else \"Invalid column.\")\n"
      ],
      "metadata": {
        "colab": {
          "base_uri": "https://localhost:8080/"
        },
        "id": "RxL-Xq_s4iyi",
        "outputId": "6f57163e-35a5-4639-c080-c94566e2969d"
      },
      "execution_count": 3,
      "outputs": [
        {
          "output_type": "stream",
          "name": "stdout",
          "text": [
            "Select column ['PassengerId', 'Survived', 'Pclass', 'Name', 'Sex', 'Age', 'SibSp', 'Parch', 'Ticket', 'Fare', 'Cabin', 'Embarked']: Fare\n",
            "Shannon Entropy of 'Fare': 7.0425655368535445\n"
          ]
        }
      ]
    },
    {
      "cell_type": "code",
      "source": [],
      "metadata": {
        "id": "Dsqpe-f04kZc"
      },
      "execution_count": null,
      "outputs": []
    }
  ]
}