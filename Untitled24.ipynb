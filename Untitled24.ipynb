{
  "nbformat": 4,
  "nbformat_minor": 0,
  "metadata": {
    "colab": {
      "provenance": []
    },
    "kernelspec": {
      "name": "python3",
      "display_name": "Python 3"
    },
    "language_info": {
      "name": "python"
    }
  },
  "cells": [
    {
      "cell_type": "code",
      "execution_count": 8,
      "metadata": {
        "colab": {
          "base_uri": "https://localhost:8080/"
        },
        "id": "DiqvAcFLPNqB",
        "outputId": "685e9b4f-00f4-476f-ddf0-6fed2be4fede"
      },
      "outputs": [
        {
          "output_type": "stream",
          "name": "stdout",
          "text": [
            "[0.2 0.1] -0.20000000000000004\n",
            "0\n",
            "0\n",
            "0\n",
            "1\n"
          ]
        }
      ],
      "source": [
        "import numpy as np\n",
        "def step_func(x):\n",
        "  return 1 if x>=0 else 0\n",
        "def perceptron_lern(x,y,lr=0.1,epoch=10):\n",
        "  weights=np.zeros(x.shape[1])\n",
        "  bias=0\n",
        "  for _ in range(epoch):\n",
        "    for i in range(len(x)):\n",
        "      out=np.dot(x[i],weights)+bias\n",
        "      pred=step_func(out)\n",
        "      error=y[i]-pred\n",
        "      weights+=lr*error*x[i]\n",
        "      bias+=lr*error\n",
        "  return weights,bias\n",
        "\n",
        "x=np.array([[0,0],[0,1],[1,0],[1,1]])\n",
        "y=np.array([0,0,0,1])\n",
        "weights,bias=perceptron_lern(x,y)\n",
        "print(weights,bias)\n",
        "def pred(x,weights,bias):\n",
        "  out=np.dot(x,weights)+bias\n",
        "  return step_func(out)\n",
        "for i in range(len(x)):\n",
        "  print(pred(x[i],weights,bias))"
      ]
    },
    {
      "cell_type": "code",
      "source": [
        "import pandas as pd\n",
        "import re\n",
        "import seaborn as sns\n",
        "titanic=sns.load_dataset('titanic')\n",
        "def match(data,coloumn,pattern):\n",
        "  match=[]\n",
        "  for val in data[coloumn]:\n",
        "    if re.match(pattern,str(val)):\n",
        "      match.append(val)\n",
        "  return match,len(match)\n",
        "def get_input():\n",
        "  coloumn=input(\"enter coloumn:\").lower()\n",
        "  if coloumn not in titanic.columns:\n",
        "    return \"not posssible\"\n",
        "  pattern=input(\"enter pattern:\")\n",
        "  print(match(titanic,coloumn,pattern))\n",
        "\n",
        "def main():\n",
        "  while True:\n",
        "    get_input()\n",
        "    again=input(\"Y/N\")\n",
        "    if again==\"N\":\n",
        "      break\n",
        "    else:\n",
        "      continue\n",
        "main()"
      ],
      "metadata": {
        "colab": {
          "base_uri": "https://localhost:8080/",
          "height": 321
        },
        "collapsed": true,
        "id": "FuzumCzYfC0Y",
        "outputId": "1afc300a-d903-4b93-f3fc-023656ed9ba0"
      },
      "execution_count": 18,
      "outputs": [
        {
          "output_type": "error",
          "ename": "KeyboardInterrupt",
          "evalue": "Interrupted by user",
          "traceback": [
            "\u001b[0;31m---------------------------------------------------------------------------\u001b[0m",
            "\u001b[0;31mKeyboardInterrupt\u001b[0m                         Traceback (most recent call last)",
            "\u001b[0;32m<ipython-input-18-b90224b810b9>\u001b[0m in \u001b[0;36m<cell line: 0>\u001b[0;34m()\u001b[0m\n\u001b[1;32m     24\u001b[0m     \u001b[0;32melse\u001b[0m\u001b[0;34m:\u001b[0m\u001b[0;34m\u001b[0m\u001b[0;34m\u001b[0m\u001b[0m\n\u001b[1;32m     25\u001b[0m       \u001b[0;32mcontinue\u001b[0m\u001b[0;34m\u001b[0m\u001b[0;34m\u001b[0m\u001b[0m\n\u001b[0;32m---> 26\u001b[0;31m \u001b[0mmain\u001b[0m\u001b[0;34m(\u001b[0m\u001b[0;34m)\u001b[0m\u001b[0;34m\u001b[0m\u001b[0;34m\u001b[0m\u001b[0m\n\u001b[0m",
            "\u001b[0;32m<ipython-input-18-b90224b810b9>\u001b[0m in \u001b[0;36mmain\u001b[0;34m()\u001b[0m\n\u001b[1;32m     18\u001b[0m \u001b[0;32mdef\u001b[0m \u001b[0mmain\u001b[0m\u001b[0;34m(\u001b[0m\u001b[0;34m)\u001b[0m\u001b[0;34m:\u001b[0m\u001b[0;34m\u001b[0m\u001b[0;34m\u001b[0m\u001b[0m\n\u001b[1;32m     19\u001b[0m   \u001b[0;32mwhile\u001b[0m \u001b[0;32mTrue\u001b[0m\u001b[0;34m:\u001b[0m\u001b[0;34m\u001b[0m\u001b[0;34m\u001b[0m\u001b[0m\n\u001b[0;32m---> 20\u001b[0;31m     \u001b[0mget_input\u001b[0m\u001b[0;34m(\u001b[0m\u001b[0;34m)\u001b[0m\u001b[0;34m\u001b[0m\u001b[0;34m\u001b[0m\u001b[0m\n\u001b[0m\u001b[1;32m     21\u001b[0m     \u001b[0magain\u001b[0m\u001b[0;34m=\u001b[0m\u001b[0minput\u001b[0m\u001b[0;34m(\u001b[0m\u001b[0;34m\"Y/N\"\u001b[0m\u001b[0;34m)\u001b[0m\u001b[0;34m\u001b[0m\u001b[0;34m\u001b[0m\u001b[0m\n\u001b[1;32m     22\u001b[0m     \u001b[0;32mif\u001b[0m \u001b[0magain\u001b[0m\u001b[0;34m==\u001b[0m\u001b[0;34m\"N\"\u001b[0m\u001b[0;34m:\u001b[0m\u001b[0;34m\u001b[0m\u001b[0;34m\u001b[0m\u001b[0m\n",
            "\u001b[0;32m<ipython-input-18-b90224b810b9>\u001b[0m in \u001b[0;36mget_input\u001b[0;34m()\u001b[0m\n\u001b[1;32m     10\u001b[0m   \u001b[0;32mreturn\u001b[0m \u001b[0mmatch\u001b[0m\u001b[0;34m,\u001b[0m\u001b[0mlen\u001b[0m\u001b[0;34m(\u001b[0m\u001b[0mmatch\u001b[0m\u001b[0;34m)\u001b[0m\u001b[0;34m\u001b[0m\u001b[0;34m\u001b[0m\u001b[0m\n\u001b[1;32m     11\u001b[0m \u001b[0;32mdef\u001b[0m \u001b[0mget_input\u001b[0m\u001b[0;34m(\u001b[0m\u001b[0;34m)\u001b[0m\u001b[0;34m:\u001b[0m\u001b[0;34m\u001b[0m\u001b[0;34m\u001b[0m\u001b[0m\n\u001b[0;32m---> 12\u001b[0;31m   \u001b[0mcoloumn\u001b[0m\u001b[0;34m=\u001b[0m\u001b[0minput\u001b[0m\u001b[0;34m(\u001b[0m\u001b[0;34m\"enter coloumn:\"\u001b[0m\u001b[0;34m)\u001b[0m\u001b[0;34m.\u001b[0m\u001b[0mlower\u001b[0m\u001b[0;34m(\u001b[0m\u001b[0;34m)\u001b[0m\u001b[0;34m\u001b[0m\u001b[0;34m\u001b[0m\u001b[0m\n\u001b[0m\u001b[1;32m     13\u001b[0m   \u001b[0;32mif\u001b[0m \u001b[0mcoloumn\u001b[0m \u001b[0;32mnot\u001b[0m \u001b[0;32min\u001b[0m \u001b[0mtitanic\u001b[0m\u001b[0;34m.\u001b[0m\u001b[0mcolumns\u001b[0m\u001b[0;34m:\u001b[0m\u001b[0;34m\u001b[0m\u001b[0;34m\u001b[0m\u001b[0m\n\u001b[1;32m     14\u001b[0m     \u001b[0;32mreturn\u001b[0m \u001b[0;34m\"not posssible\"\u001b[0m\u001b[0;34m\u001b[0m\u001b[0;34m\u001b[0m\u001b[0m\n",
            "\u001b[0;32m/usr/local/lib/python3.11/dist-packages/ipykernel/kernelbase.py\u001b[0m in \u001b[0;36mraw_input\u001b[0;34m(self, prompt)\u001b[0m\n\u001b[1;32m   1175\u001b[0m                 \u001b[0;34m\"raw_input was called, but this frontend does not support input requests.\"\u001b[0m\u001b[0;34m\u001b[0m\u001b[0;34m\u001b[0m\u001b[0m\n\u001b[1;32m   1176\u001b[0m             )\n\u001b[0;32m-> 1177\u001b[0;31m         return self._input_request(\n\u001b[0m\u001b[1;32m   1178\u001b[0m             \u001b[0mstr\u001b[0m\u001b[0;34m(\u001b[0m\u001b[0mprompt\u001b[0m\u001b[0;34m)\u001b[0m\u001b[0;34m,\u001b[0m\u001b[0;34m\u001b[0m\u001b[0;34m\u001b[0m\u001b[0m\n\u001b[1;32m   1179\u001b[0m             \u001b[0mself\u001b[0m\u001b[0;34m.\u001b[0m\u001b[0m_parent_ident\u001b[0m\u001b[0;34m[\u001b[0m\u001b[0;34m\"shell\"\u001b[0m\u001b[0;34m]\u001b[0m\u001b[0;34m,\u001b[0m\u001b[0;34m\u001b[0m\u001b[0;34m\u001b[0m\u001b[0m\n",
            "\u001b[0;32m/usr/local/lib/python3.11/dist-packages/ipykernel/kernelbase.py\u001b[0m in \u001b[0;36m_input_request\u001b[0;34m(self, prompt, ident, parent, password)\u001b[0m\n\u001b[1;32m   1217\u001b[0m             \u001b[0;32mexcept\u001b[0m \u001b[0mKeyboardInterrupt\u001b[0m\u001b[0;34m:\u001b[0m\u001b[0;34m\u001b[0m\u001b[0;34m\u001b[0m\u001b[0m\n\u001b[1;32m   1218\u001b[0m                 \u001b[0;31m# re-raise KeyboardInterrupt, to truncate traceback\u001b[0m\u001b[0;34m\u001b[0m\u001b[0;34m\u001b[0m\u001b[0m\n\u001b[0;32m-> 1219\u001b[0;31m                 \u001b[0;32mraise\u001b[0m \u001b[0mKeyboardInterrupt\u001b[0m\u001b[0;34m(\u001b[0m\u001b[0;34m\"Interrupted by user\"\u001b[0m\u001b[0;34m)\u001b[0m \u001b[0;32mfrom\u001b[0m \u001b[0;32mNone\u001b[0m\u001b[0;34m\u001b[0m\u001b[0;34m\u001b[0m\u001b[0m\n\u001b[0m\u001b[1;32m   1220\u001b[0m             \u001b[0;32mexcept\u001b[0m \u001b[0mException\u001b[0m\u001b[0;34m:\u001b[0m\u001b[0;34m\u001b[0m\u001b[0;34m\u001b[0m\u001b[0m\n\u001b[1;32m   1221\u001b[0m                 \u001b[0mself\u001b[0m\u001b[0;34m.\u001b[0m\u001b[0mlog\u001b[0m\u001b[0;34m.\u001b[0m\u001b[0mwarning\u001b[0m\u001b[0;34m(\u001b[0m\u001b[0;34m\"Invalid Message:\"\u001b[0m\u001b[0;34m,\u001b[0m \u001b[0mexc_info\u001b[0m\u001b[0;34m=\u001b[0m\u001b[0;32mTrue\u001b[0m\u001b[0;34m)\u001b[0m\u001b[0;34m\u001b[0m\u001b[0;34m\u001b[0m\u001b[0m\n",
            "\u001b[0;31mKeyboardInterrupt\u001b[0m: Interrupted by user"
          ]
        }
      ]
    },
    {
      "cell_type": "code",
      "source": [
        "import numpy as np\n",
        "from scipy.spatial.distance import mahalanobis\n",
        "def computr(poly1,poly2):\n",
        "  poly1=np.array(poly1)\n",
        "  poly2=np.array(poly2)\n",
        "  cnt1=np.mean(poly1,axis=0)\n",
        "  cnt2=np.mean(poly2,axis=0)\n",
        "  comb=np.vstack((poly1,poly2))\n",
        "  cov=np.cov(comb.T)\n",
        "  try:\n",
        "    inv=np.linalg.inv(cov)\n",
        "  except np.linalg.LinAlgError:\n",
        "    return ValueError(\"Cant happen\")\n",
        "  dist=mahalanobis(cnt1,cnt2,inv)\n",
        "  return dist\n",
        "def get_input():\n",
        "  points=input(\"enter points:\").strip().split(\",\")\n",
        "  polygon = [tuple(map(float, point.strip().split())) for point in points]\n",
        "  return polygon\n",
        "\n",
        "try:\n",
        "  p1=get_input()\n",
        "  p2=get_input()\n",
        "  p3=[[1, 2], [2, 3], [3, 5]]\n",
        "  p4=[[5, 6], [6, 7], [7, 9]]\n",
        "  print(computr(p3,p4))\n",
        "except ValueError:\n",
        "  print(\"cant happen\")\n",
        "except ValueError:\n",
        "  print(\"cant happen\")\n"
      ],
      "metadata": {
        "colab": {
          "base_uri": "https://localhost:8080/"
        },
        "id": "DTscmgpNhhoJ",
        "outputId": "347d2079-ff73-4d4d-fe68-d96db5e85558"
      },
      "execution_count": 27,
      "outputs": [
        {
          "output_type": "stream",
          "name": "stdout",
          "text": [
            "1.7888543819998288\n"
          ]
        }
      ]
    },
    {
      "cell_type": "code",
      "source": [
        "import pandas as pd\n",
        "from collections import Counter\n",
        "import math\n",
        "import seaborn as sns\n",
        "titanic=sns.load_dataset('titanic')\n",
        "def calculate(data):\n",
        "  count=Counter(data)\n",
        "  total=sum(count.values())\n",
        "  e=0.0\n",
        "  for c in count.values():\n",
        "    p=c/total\n",
        "    e-=p*math.log2(p)\n",
        "  return e\n",
        "user_input = input(\"enter an coloumn:\").lower()\n",
        "if user_input in titanic.columns:\n",
        "  print(calculate(titanic[user_input]))\n",
        "else:\n",
        "  print(\"not posssible\")"
      ],
      "metadata": {
        "colab": {
          "base_uri": "https://localhost:8080/"
        },
        "id": "OiSPF9L1g-Xg",
        "outputId": "a4d046e4-233e-44bd-e535-d0f351197a23"
      },
      "execution_count": 2,
      "outputs": [
        {
          "output_type": "stream",
          "name": "stdout",
          "text": [
            "enter an coloumn:sex\n",
            "0.9362046432498521\n"
          ]
        }
      ]
    },
    {
      "cell_type": "code",
      "source": [
        "import numpy as np\n",
        "import pandas as pd\n",
        "from sklearn.model_selection import train_test_split\n",
        "from sklearn.naive_bayes import GaussianNB\n",
        "from sklearn.metrics import accuracy_score,confusion_matrix\n",
        "from sklearn.datasets import load_wine\n",
        "from seaborn import heatmap\n",
        "data=load_wine()\n",
        "x=data.data\n",
        "y=data.target\n",
        "x_train,x_test,y_train,y_test=train_test_split(x,y,test_size=0.5,random_state=42)\n",
        "model=GaussianNB()\n",
        "model.fit(x_train,y_train)\n",
        "y_pred=model.predict(x_test)\n",
        "axxuracy=accuracy_score(y_test,y_pred)\n",
        "print(axxuracy)\n",
        "print(heatmap(confusion_matrix(y_test,y_pred)))\n",
        "print(confusion_matrix(y_test,y_pred))"
      ],
      "metadata": {
        "colab": {
          "base_uri": "https://localhost:8080/",
          "height": 517
        },
        "id": "naqEEeekeAvN",
        "outputId": "974ea9db-0f39-4390-a0f1-013823484333"
      },
      "execution_count": 9,
      "outputs": [
        {
          "output_type": "stream",
          "name": "stdout",
          "text": [
            "0.9887640449438202\n",
            "Axes(0.125,0.11;0.62x0.77)\n",
            "[[32  1  0]\n",
            " [ 0 34  0]\n",
            " [ 0  0 22]]\n"
          ]
        },
        {
          "output_type": "display_data",
          "data": {
            "text/plain": [
              "<Figure size 640x480 with 2 Axes>"
            ],
            "image/png": "[encoded data removed]"
          },
          "metadata": {}
        }
      ]
    },
    {
      "cell_type": "code",
      "source": [
        "import matplotlib.pyplot as plt\n",
        "import pandas as pd\n",
        "from sklearn.preprocessing import StandardScaler\n",
        "from fcmeans import FCM\n",
        "from sklearn.datasets import load_wine\n",
        "wine=load_wine()\n",
        "x=wine.data[:,:2]\n",
        "x_scaled=StandardScaler().fit_transform(x)\n",
        "fcm=FCM(n_clusters=3)\n",
        "fcm.fit(x_scaled)\n",
        "centers=fcm.centers\n",
        "labels=fcm.predict(x_scaled)\n",
        "plt.figure(figsize=(8,6))\n",
        "for i in range(3):\n",
        "  plt.scatter(x_scaled[labels==i,0],x_scaled[labels==i,1])\n",
        "  plt.scatter(centers[i,0],centers[i,1],marker=\"x\",color=\"black\",s=200)\n",
        "plt.legend()\n",
        "plt.show()\n",
        "\n"
      ],
      "metadata": {
        "colab": {
          "base_uri": "https://localhost:8080/",
          "height": 577
        },
        "id": "ZxhlWaKXhwrt",
        "outputId": "d8903860-448d-42a1-fe82-4d0020f2de89"
      },
      "execution_count": 7,
      "outputs": [
        {
          "output_type": "stream",
          "name": "stderr",
          "text": [
            "<ipython-input-7-73ee421d311e>:17: UserWarning: No artists with labels found to put in legend.  Note that artists whose label start with an underscore are ignored when legend() is called with no argument.\n",
            "  plt.legend()\n"
          ]
        },
        {
          "output_type": "display_data",
          "data": {
            "text/plain": [
              "<Figure size 800x600 with 1 Axes>"
            ],
            "image/png": "[encoded data removed]"
          },
          "metadata": {}
        }
      ]
    },
    {
      "cell_type": "code",
      "source": [
        "import numpy as np\n",
        "pattern=np.array([1,-1,1,-1,1,-1,1,-1,1])\n",
        "weights=np.zeros((9,9))\n",
        "weights+=np.outer(pattern,pattern)\n",
        "np.fill_diagonal(weights,0)\n",
        "noicy=pattern.copy()\n",
        "noicy[0]=-noicy[0]\n",
        "noicy[1]=-noicy[1]\n",
        "output=noicy.copy()\n",
        "for i in range(9):\n",
        "  s=np.dot(weights[i],output)\n",
        "  output[i]=1 if s>=0 else -1\n",
        "def show(p,title):\n",
        "  print(title)\n",
        "  p=p.reshape(3,3)\n",
        "  for r in p:\n",
        "    print(\" \".join(['x' if val==1 else 'o' for val in r]))\n",
        "  print()\n",
        "show(pattern,\"pattern\")\n",
        "show(noicy,\"noicy\")\n",
        "show(output,\"output\")\n",
        "\n"
      ],
      "metadata": {
        "colab": {
          "base_uri": "https://localhost:8080/"
        },
        "id": "x24eU7lXjI3D",
        "outputId": "4138c7f7-d696-4d08-8e19-0d5c47c523ea"
      },
      "execution_count": 12,
      "outputs": [
        {
          "output_type": "stream",
          "name": "stdout",
          "text": [
            "pattern\n",
            "x o x\n",
            "o x o\n",
            "x o x\n",
            "\n",
            "noicy\n",
            "o x x\n",
            "o x o\n",
            "x o x\n",
            "\n",
            "output\n",
            "x o x\n",
            "o x o\n",
            "x o x\n",
            "\n"
          ]
        }
      ]
    },
    {
      "cell_type": "code",
      "source": [
        "import numpy as np\n",
        "pattern=np.array([1,-1,1,-1,1,-1,1,-1,1])\n",
        "weight=np.zeros((9,9))\n",
        "weights+=np.outer(pattern,pattern)\n",
        "np.fill_diagonal(weights,0)\n",
        "noicy=pattern.copy()\n",
        "noicy[0]=-noicy[0]\n",
        "noicy[1]=-noicy[1]\n",
        "output=noicy.copy()\n",
        "for i in range(9):\n",
        "  s=np.dot(weights[i],output)\n",
        "  output[i]=1 if s>=0 else -1\n",
        "def show(pattern,title):\n",
        "  print(title)\n",
        "  p=pattern.reshape(3,3)\n",
        "  for r in p:\n",
        "    print(\" \".join(['x' if val==1 else 'o' for val in r]))\n",
        "  print()\n",
        "show(pattern,\"pattern\")\n",
        "show(noicy,\"noicy\")\n",
        "show(output,\"output\")"
      ],
      "metadata": {
        "colab": {
          "base_uri": "https://localhost:8080/"
        },
        "id": "vInIU3biqpy1",
        "outputId": "088b8b0e-db14-4a9c-be70-c3192cb23aff"
      },
      "execution_count": 14,
      "outputs": [
        {
          "output_type": "stream",
          "name": "stdout",
          "text": [
            "pattern\n",
            "x o x\n",
            "o x o\n",
            "x o x\n",
            "\n",
            "noicy\n",
            "o x x\n",
            "o x o\n",
            "x o x\n",
            "\n",
            "output\n",
            "x o x\n",
            "o x o\n",
            "x o x\n",
            "\n"
          ]
        }
      ]
    },
    {
      "cell_type": "code",
      "source": [
        "import numpy as np\n",
        "import matplotlib.pyplot as plt\n",
        "from sklearn.datasets import load_digits\n",
        "from sklearn.model_selection import train_test_split\n",
        "from sklearn.cluster import KMeans\n",
        "from tensorflow.keras.models import Sequential\n",
        "from tensorflow.keras.layers import Conv2D, MaxPooling2D, Flatten, Dense\n",
        "from tensorflow.keras.utils import to_categorical\n",
        "\n",
        "# Load the digits dataset\n",
        "digits = load_digits()\n",
        "X = digits.images  # Shape: (1797, 8, 8)\n",
        "y = digits.target  # Labels\n",
        "\n",
        "# Normalize the images\n",
        "X = X / 16.0  # Pixel values are from 0-16\n",
        "\n",
        "# Reshape for CNN: (8, 8) → (8, 8, 1)\n",
        "X = X.reshape(-1, 8, 8, 1)\n",
        "\n",
        "# One-hot encode labels for classification\n",
        "y_cat = to_categorical(y, num_classes=10)\n",
        "\n",
        "# Split into training and testing\n",
        "X_train, X_test, y_train, y_test = train_test_split(X, y_cat, test_size=0.2, random_state=42)\n",
        "\n",
        "# Build a simple CNN model\n",
        "model = Sequential([\n",
        "    Conv2D(32, (3, 3), activation='relu', input_shape=(8, 8, 1)),\n",
        "    MaxPooling2D((2, 2)),\n",
        "    Flatten(),\n",
        "    Dense(64, activation='relu'),\n",
        "    Dense(10, activation='softmax')\n",
        "])\n",
        "\n",
        "# Compile the model\n",
        "model.compile(optimizer='adam', loss='categorical_crossentropy', metrics=['accuracy'])\n",
        "\n",
        "# Train the model\n",
        "model.fit(X_train, y_train, epochs=10, validation_data=(X_test, y_test), batch_size=32)\n",
        "\n",
        "# Evaluate\n",
        "test_loss, test_acc = model.evaluate(X_test, y_test)\n",
        "print(f\"Test Accuracy: {test_acc:.2f}\")\n",
        "\n",
        "# -------------------------------\n",
        "# KMeans Clustering\n",
        "# -------------------------------\n",
        "\n",
        "# Flatten images for KMeans (needed for clustering)\n",
        "X_flattened = X.reshape(X.shape[0], -1)\n",
        "\n",
        "# Apply KMeans\n",
        "kmeans = KMeans(n_clusters=10, random_state=42)\n",
        "labels = kmeans.fit_predict(X_flattened)\n",
        "\n",
        "# Visualize clustering results\n",
        "fig, axes = plt.subplots(1, 5, figsize=(10, 4))\n",
        "for i, ax in enumerate(axes):\n",
        "    ax.imshow(X[i].reshape(8, 8), cmap='gray')\n",
        "    ax.set_title(f\"Cluster {labels[i]}\")\n",
        "    ax.axis('off')\n",
        "plt.tight_layout()\n",
        "plt.show()\n"
      ],
      "metadata": {
        "colab": {
          "base_uri": "https://localhost:8080/",
          "height": 648
        },
        "id": "tEK1e9vBuQh_",
        "outputId": "cd2091ee-1020-4541-ff56-ff8f62fa0758"
      },
      "execution_count": 16,
      "outputs": [
        {
          "output_type": "stream",
          "name": "stdout",
          "text": [
            "Epoch 1/10\n"
          ]
        },
        {
          "output_type": "stream",
          "name": "stderr",
          "text": [
            "/usr/local/lib/python3.11/dist-packages/keras/src/layers/convolutional/base_conv.py:107: UserWarning: Do not pass an `input_shape`/`input_dim` argument to a layer. When using Sequential models, prefer using an `Input(shape)` object as the first layer in the model instead.\n",
            "  super().__init__(activity_regularizer=activity_regularizer, **kwargs)\n"
          ]
        },
        {
          "output_type": "stream",
          "name": "stdout",
          "text": [
            "\u001b[1m45/45\u001b[0m \u001b[32m━━━━━━━━━━━━━━━━━━━━\u001b[0m\u001b[37m\u001b[0m \u001b[1m2s\u001b[0m 10ms/step - accuracy: 0.2861 - loss: 2.2204 - val_accuracy: 0.7111 - val_loss: 1.8053\n",
            "Epoch 2/10\n",
            "\u001b[1m45/45\u001b[0m \u001b[32m━━━━━━━━━━━━━━━━━━━━\u001b[0m\u001b[37m\u001b[0m \u001b[1m0s\u001b[0m 6ms/step - accuracy: 0.7377 - loss: 1.6366 - val_accuracy: 0.8306 - val_loss: 0.9589\n",
            "Epoch 3/10\n",
            "\u001b[1m45/45\u001b[0m \u001b[32m━━━━━━━━━━━━━━━━━━━━\u001b[0m\u001b[37m\u001b[0m \u001b[1m0s\u001b[0m 5ms/step - accuracy: 0.8538 - loss: 0.8076 - val_accuracy: 0.8917 - val_loss: 0.4805\n",
            "Epoch 4/10\n",
            "\u001b[1m45/45\u001b[0m \u001b[32m━━━━━━━━━━━━━━━━━━━━\u001b[0m\u001b[37m\u001b[0m \u001b[1m0s\u001b[0m 5ms/step - accuracy: 0.9271 - loss: 0.4179 - val_accuracy: 0.9361 - val_loss: 0.3091\n",
            "Epoch 5/10\n",
            "\u001b[1m45/45\u001b[0m \u001b[32m━━━━━━━━━━━━━━━━━━━━\u001b[0m\u001b[37m\u001b[0m \u001b[1m0s\u001b[0m 6ms/step - accuracy: 0.9431 - loss: 0.2765 - val_accuracy: 0.9444 - val_loss: 0.2372\n",
            "Epoch 6/10\n",
            "\u001b[1m45/45\u001b[0m \u001b[32m━━━━━━━━━━━━━━━━━━━━\u001b[0m\u001b[37m\u001b[0m \u001b[1m0s\u001b[0m 6ms/step - accuracy: 0.9559 - loss: 0.1906 - val_accuracy: 0.9528 - val_loss: 0.1908\n",
            "Epoch 7/10\n",
            "\u001b[1m45/45\u001b[0m \u001b[32m━━━━━━━━━━━━━━━━━━━━\u001b[0m\u001b[37m\u001b[0m \u001b[1m0s\u001b[0m 5ms/step - accuracy: 0.9671 - loss: 0.1764 - val_accuracy: 0.9611 - val_loss: 0.1531\n",
            "Epoch 8/10\n",
            "\u001b[1m45/45\u001b[0m \u001b[32m━━━━━━━━━━━━━━━━━━━━\u001b[0m\u001b[37m\u001b[0m \u001b[1m0s\u001b[0m 5ms/step - accuracy: 0.9695 - loss: 0.1417 - val_accuracy: 0.9611 - val_loss: 0.1399\n",
            "Epoch 9/10\n",
            "\u001b[1m45/45\u001b[0m \u001b[32m━━━━━━━━━━━━━━━━━━━━\u001b[0m\u001b[37m\u001b[0m \u001b[1m0s\u001b[0m 5ms/step - accuracy: 0.9695 - loss: 0.1297 - val_accuracy: 0.9694 - val_loss: 0.1185\n",
            "Epoch 10/10\n",
            "\u001b[1m45/45\u001b[0m \u001b[32m━━━━━━━━━━━━━━━━━━━━\u001b[0m\u001b[37m\u001b[0m \u001b[1m0s\u001b[0m 5ms/step - accuracy: 0.9814 - loss: 0.0957 - val_accuracy: 0.9611 - val_loss: 0.1182\n",
            "\u001b[1m12/12\u001b[0m \u001b[32m━━━━━━━━━━━━━━━━━━━━\u001b[0m\u001b[37m\u001b[0m \u001b[1m0s\u001b[0m 4ms/step - accuracy: 0.9632 - loss: 0.1043 \n",
            "Test Accuracy: 0.96\n"
          ]
        },
        {
          "output_type": "display_data",
          "data": {
            "text/plain": [
              "<Figure size 1000x400 with 5 Axes>"
            ],
            "image/png": "[encoded data removed]"
          },
          "metadata": {}
        }
      ]
    },
    {
      "cell_type": "code",
      "source": [
        "import numpy as np\n",
        "import matplotlib.pyplot as plt\n",
        "from sklearn.datasets import load_digits\n",
        "from sklearn.model_selection import train_test_split\n",
        "from tensorflow.keras.utils import to_categorical\n",
        "from tensorflow.keras import models, layers\n",
        "\n",
        "# Load the digits dataset\n",
        "digits = load_digits()\n",
        "X = digits.images   # shape: (n_samples, 8, 8)\n",
        "y = digits.target   # shape: (n_samples,)\n",
        "\n",
        "# Normalize the data and reshape for CNN input (add channel dimension)\n",
        "X = X / 16.0  # pixel values are from 0–16\n",
        "X = X.reshape(-1, 8, 8, 1)  # add channel for grayscale\n",
        "\n",
        "# One-hot encode the labels\n",
        "y_cat = to_categorical(y, num_classes=10)\n",
        "\n",
        "# Split into training and testing sets\n",
        "X_train, X_test, y_train, y_test = train_test_split(X, y_cat, test_size=0.2, random_state=42)\n",
        "\n",
        "# Build a simple CNN model\n",
        "model = models.Sequential([\n",
        "    layers.Conv2D(32, (3, 3), activation='relu', input_shape=(8, 8, 1)),\n",
        "    layers.MaxPooling2D((2, 2)),\n",
        "    layers.Flatten(),\n",
        "    layers.Dense(64, activation='relu'),\n",
        "    layers.Dense(10, activation='softmax')\n",
        "])\n",
        "\n",
        "# Compile the model\n",
        "model.compile(optimizer='adam', loss='categorical_crossentropy', metrics=['accuracy'])\n",
        "\n",
        "# Train the model\n",
        "history = model.fit(X_train, y_train, epochs=10, batch_size=32, validation_data=(X_test, y_test))\n",
        "\n",
        "# Evaluate the model\n",
        "test_loss, test_acc = model.evaluate(X_test, y_test)\n",
        "print(f\"\\nTest Accuracy: {test_acc:.4f}\")\n"
      ],
      "metadata": {
        "colab": {
          "base_uri": "https://localhost:8080/"
        },
        "id": "AxWfSaekzcfH",
        "outputId": "6b220cc4-ac02-48a5-8717-8373752f8b81"
      },
      "execution_count": 18,
      "outputs": [
        {
          "output_type": "stream",
          "name": "stdout",
          "text": [
            "Epoch 1/10\n",
            "\u001b[1m45/45\u001b[0m \u001b[32m━━━━━━━━━━━━━━━━━━━━\u001b[0m\u001b[37m\u001b[0m \u001b[1m2s\u001b[0m 9ms/step - accuracy: 0.3785 - loss: 2.1901 - val_accuracy: 0.7722 - val_loss: 1.6698\n",
            "Epoch 2/10\n",
            "\u001b[1m45/45\u001b[0m \u001b[32m━━━━━━━━━━━━━━━━━━━━\u001b[0m\u001b[37m\u001b[0m \u001b[1m0s\u001b[0m 5ms/step - accuracy: 0.8239 - loss: 1.4175 - val_accuracy: 0.8583 - val_loss: 0.7415\n",
            "Epoch 3/10\n",
            "\u001b[1m45/45\u001b[0m \u001b[32m━━━━━━━━━━━━━━━━━━━━\u001b[0m\u001b[37m\u001b[0m \u001b[1m0s\u001b[0m 5ms/step - accuracy: 0.8863 - loss: 0.6202 - val_accuracy: 0.9000 - val_loss: 0.4286\n",
            "Epoch 4/10\n",
            "\u001b[1m45/45\u001b[0m \u001b[32m━━━━━━━━━━━━━━━━━━━━\u001b[0m\u001b[37m\u001b[0m \u001b[1m0s\u001b[0m 6ms/step - accuracy: 0.9254 - loss: 0.3835 - val_accuracy: 0.9306 - val_loss: 0.2942\n",
            "Epoch 5/10\n",
            "\u001b[1m45/45\u001b[0m \u001b[32m━━━━━━━━━━━━━━━━━━━━\u001b[0m\u001b[37m\u001b[0m \u001b[1m1s\u001b[0m 7ms/step - accuracy: 0.9501 - loss: 0.2624 - val_accuracy: 0.9389 - val_loss: 0.2220\n",
            "Epoch 6/10\n",
            "\u001b[1m45/45\u001b[0m \u001b[32m━━━━━━━━━━━━━━━━━━━━\u001b[0m\u001b[37m\u001b[0m \u001b[1m1s\u001b[0m 6ms/step - accuracy: 0.9531 - loss: 0.2094 - val_accuracy: 0.9444 - val_loss: 0.2014\n",
            "Epoch 7/10\n",
            "\u001b[1m45/45\u001b[0m \u001b[32m━━━━━━━━━━━━━━━━━━━━\u001b[0m\u001b[37m\u001b[0m \u001b[1m1s\u001b[0m 5ms/step - accuracy: 0.9664 - loss: 0.1633 - val_accuracy: 0.9667 - val_loss: 0.1657\n",
            "Epoch 8/10\n",
            "\u001b[1m45/45\u001b[0m \u001b[32m━━━━━━━━━━━━━━━━━━━━\u001b[0m\u001b[37m\u001b[0m \u001b[1m0s\u001b[0m 5ms/step - accuracy: 0.9706 - loss: 0.1560 - val_accuracy: 0.9611 - val_loss: 0.1497\n",
            "Epoch 9/10\n",
            "\u001b[1m45/45\u001b[0m \u001b[32m━━━━━━━━━━━━━━━━━━━━\u001b[0m\u001b[37m\u001b[0m \u001b[1m0s\u001b[0m 5ms/step - accuracy: 0.9736 - loss: 0.1286 - val_accuracy: 0.9667 - val_loss: 0.1470\n",
            "Epoch 10/10\n",
            "\u001b[1m45/45\u001b[0m \u001b[32m━━━━━━━━━━━━━━━━━━━━\u001b[0m\u001b[37m\u001b[0m \u001b[1m0s\u001b[0m 5ms/step - accuracy: 0.9708 - loss: 0.1139 - val_accuracy: 0.9694 - val_loss: 0.1194\n",
            "\u001b[1m12/12\u001b[0m \u001b[32m━━━━━━━━━━━━━━━━━━━━\u001b[0m\u001b[37m\u001b[0m \u001b[1m0s\u001b[0m 4ms/step - accuracy: 0.9659 - loss: 0.1139 \n",
            "\n",
            "Test Accuracy: 0.9694\n"
          ]
        }
      ]
    },
    {
      "source": [
        "!pip install kagglehub opencv-python tensorflow matplotlib\n"
      ],
      "cell_type": "code",
      "metadata": {
        "colab": {
          "base_uri": "https://localhost:8080/"
        },
        "id": "jLkJ75geKtt0",
        "outputId": "41d34463-296d-4554-9f11-a1c746d7ec44"
      },
      "execution_count": 9,
      "outputs": [
        {
          "output_type": "stream",
          "name": "stdout",
          "text": [
            "Requirement already satisfied: kagglehub in /usr/local/lib/python3.11/dist-packages (0.3.11)\n",
            "Requirement already satisfied: opencv-python in /usr/local/lib/python3.11/dist-packages (4.11.0.86)\n",
            "Requirement already satisfied: tensorflow in /usr/local/lib/python3.11/dist-packages (2.18.0)\n",
            "Requirement already satisfied: matplotlib in /usr/local/lib/python3.11/dist-packages (3.10.0)\n",
            "Requirement already satisfied: packaging in /usr/local/lib/python3.11/dist-packages (from kagglehub) (24.2)\n",
            "Requirement already satisfied: pyyaml in /usr/local/lib/python3.11/dist-packages (from kagglehub) (6.0.2)\n",
            "Requirement already satisfied: requests in /usr/local/lib/python3.11/dist-packages (from kagglehub) (2.32.3)\n",
            "Requirement already satisfied: tqdm in /usr/local/lib/python3.11/dist-packages (from kagglehub) (4.67.1)\n",
            "Requirement already satisfied: numpy>=1.21.2 in /usr/local/lib/python3.11/dist-packages (from opencv-python) (2.0.2)\n",
            "Requirement already satisfied: absl-py>=1.0.0 in /usr/local/lib/python3.11/dist-packages (from tensorflow) (1.4.0)\n",
            "Requirement already satisfied: astunparse>=1.6.0 in /usr/local/lib/python3.11/dist-packages (from tensorflow) (1.6.3)\n",
            "Requirement already satisfied: flatbuffers>=24.3.25 in /usr/local/lib/python3.11/dist-packages (from tensorflow) (25.2.10)\n",
            "Requirement already satisfied: gast!=0.5.0,!=0.5.1,!=0.5.2,>=0.2.1 in /usr/local/lib/python3.11/dist-packages (from tensorflow) (0.6.0)\n",
            "Requirement already satisfied: google-pasta>=0.1.1 in /usr/local/lib/python3.11/dist-packages (from tensorflow) (0.2.0)\n",
            "Requirement already satisfied: libclang>=13.0.0 in /usr/local/lib/python3.11/dist-packages (from tensorflow) (18.1.1)\n",
            "Requirement already satisfied: opt-einsum>=2.3.2 in /usr/local/lib/python3.11/dist-packages (from tensorflow) (3.4.0)\n",
            "Requirement already satisfied: protobuf!=4.21.0,!=4.21.1,!=4.21.2,!=4.21.3,!=4.21.4,!=4.21.5,<6.0.0dev,>=3.20.3 in /usr/local/lib/python3.11/dist-packages (from tensorflow) (5.29.4)\n",
            "Requirement already satisfied: setuptools in /usr/local/lib/python3.11/dist-packages (from tensorflow) (75.2.0)\n",
            "Requirement already satisfied: six>=1.12.0 in /usr/local/lib/python3.11/dist-packages (from tensorflow) (1.17.0)\n",
            "Requirement already satisfied: termcolor>=1.1.0 in /usr/local/lib/python3.11/dist-packages (from tensorflow) (3.0.1)\n",
            "Requirement already satisfied: typing-extensions>=3.6.6 in /usr/local/lib/python3.11/dist-packages (from tensorflow) (4.13.1)\n",
            "Requirement already satisfied: wrapt>=1.11.0 in /usr/local/lib/python3.11/dist-packages (from tensorflow) (1.17.2)\n",
            "Requirement already satisfied: grpcio<2.0,>=1.24.3 in /usr/local/lib/python3.11/dist-packages (from tensorflow) (1.71.0)\n",
            "Requirement already satisfied: tensorboard<2.19,>=2.18 in /usr/local/lib/python3.11/dist-packages (from tensorflow) (2.18.0)\n",
            "Requirement already satisfied: keras>=3.5.0 in /usr/local/lib/python3.11/dist-packages (from tensorflow) (3.8.0)\n",
            "Requirement already satisfied: h5py>=3.11.0 in /usr/local/lib/python3.11/dist-packages (from tensorflow) (3.13.0)\n",
            "Requirement already satisfied: ml-dtypes<0.5.0,>=0.4.0 in /usr/local/lib/python3.11/dist-packages (from tensorflow) (0.4.1)\n",
            "Requirement already satisfied: tensorflow-io-gcs-filesystem>=0.23.1 in /usr/local/lib/python3.11/dist-packages (from tensorflow) (0.37.1)\n",
            "Requirement already satisfied: contourpy>=1.0.1 in /usr/local/lib/python3.11/dist-packages (from matplotlib) (1.3.1)\n",
            "Requirement already satisfied: cycler>=0.10 in /usr/local/lib/python3.11/dist-packages (from matplotlib) (0.12.1)\n",
            "Requirement already satisfied: fonttools>=4.22.0 in /usr/local/lib/python3.11/dist-packages (from matplotlib) (4.57.0)\n",
            "Requirement already satisfied: kiwisolver>=1.3.1 in /usr/local/lib/python3.11/dist-packages (from matplotlib) (1.4.8)\n",
            "Requirement already satisfied: pillow>=8 in /usr/local/lib/python3.11/dist-packages (from matplotlib) (11.1.0)\n",
            "Requirement already satisfied: pyparsing>=2.3.1 in /usr/local/lib/python3.11/dist-packages (from matplotlib) (3.2.3)\n",
            "Requirement already satisfied: python-dateutil>=2.7 in /usr/local/lib/python3.11/dist-packages (from matplotlib) (2.8.2)\n",
            "Requirement already satisfied: wheel<1.0,>=0.23.0 in /usr/local/lib/python3.11/dist-packages (from astunparse>=1.6.0->tensorflow) (0.45.1)\n",
            "Requirement already satisfied: rich in /usr/local/lib/python3.11/dist-packages (from keras>=3.5.0->tensorflow) (13.9.4)\n",
            "Requirement already satisfied: namex in /usr/local/lib/python3.11/dist-packages (from keras>=3.5.0->tensorflow) (0.0.8)\n",
            "Requirement already satisfied: optree in /usr/local/lib/python3.11/dist-packages (from keras>=3.5.0->tensorflow) (0.15.0)\n",
            "Requirement already satisfied: charset-normalizer<4,>=2 in /usr/local/lib/python3.11/dist-packages (from requests->kagglehub) (3.4.1)\n",
            "Requirement already satisfied: idna<4,>=2.5 in /usr/local/lib/python3.11/dist-packages (from requests->kagglehub) (3.10)\n",
            "Requirement already satisfied: urllib3<3,>=1.21.1 in /usr/local/lib/python3.11/dist-packages (from requests->kagglehub) (2.3.0)\n",
            "Requirement already satisfied: certifi>=2017.4.17 in /usr/local/lib/python3.11/dist-packages (from requests->kagglehub) (2025.1.31)\n",
            "Requirement already satisfied: markdown>=2.6.8 in /usr/local/lib/python3.11/dist-packages (from tensorboard<2.19,>=2.18->tensorflow) (3.7)\n",
            "Requirement already satisfied: tensorboard-data-server<0.8.0,>=0.7.0 in /usr/local/lib/python3.11/dist-packages (from tensorboard<2.19,>=2.18->tensorflow) (0.7.2)\n",
            "Requirement already satisfied: werkzeug>=1.0.1 in /usr/local/lib/python3.11/dist-packages (from tensorboard<2.19,>=2.18->tensorflow) (3.1.3)\n",
            "Requirement already satisfied: MarkupSafe>=2.1.1 in /usr/local/lib/python3.11/dist-packages (from werkzeug>=1.0.1->tensorboard<2.19,>=2.18->tensorflow) (3.0.2)\n",
            "Requirement already satisfied: markdown-it-py>=2.2.0 in /usr/local/lib/python3.11/dist-packages (from rich->keras>=3.5.0->tensorflow) (3.0.0)\n",
            "Requirement already satisfied: pygments<3.0.0,>=2.13.0 in /usr/local/lib/python3.11/dist-packages (from rich->keras>=3.5.0->tensorflow) (2.18.0)\n",
            "Requirement already satisfied: mdurl~=0.1 in /usr/local/lib/python3.11/dist-packages (from markdown-it-py>=2.2.0->rich->keras>=3.5.0->tensorflow) (0.1.2)\n"
          ]
        }
      ]
    },
    {
      "cell_type": "code",
      "source": [
        "import numpy as np\n",
        "import pandas as pd\n",
        "from sklearn.model_selection import train_test_split\n",
        "import matplotlib.pyplot as plt\n",
        "import matplotlib.image as mimg\n",
        "import tensorflow as tf\n",
        "from tensorflow import keras\n",
        "import cv2\n",
        "import PIL\n",
        "from PIL import Image\n",
        "import os\n",
        "import kagglehub\n",
        "path = kagglehub.dataset_download(\"ashwingupta3012/male-and-female-faces-dataset\")\n",
        "print(\"Path to dataset files:\", path)\n",
        "male_file=os.listdir('/kaggle/input/male-and-female-faces-dataset/Male and Female face dataset/Male Faces')\n",
        "female_file=os.listdir('/kaggle/input/male-and-female-faces-dataset/Male and Female face dataset/Female Faces')\n",
        "male_label=[1]*len(male_file)\n",
        "female_label=[0]*len(female_file)\n",
        "labels=male_label+female_label\n",
        "\n",
        "male_path='/kaggle/input/male-and-female-faces-dataset/Male and Female face dataset/Male Faces'\n",
        "\n",
        "data=[]\n",
        "for file in os.listdir(male_path):\n",
        "    file_path = os.path.join(male_path, file)\n",
        "\n",
        "    if os.path.isfile(file_path):\n",
        "        image = Image.open(file_path)\n",
        "        image = image.resize((128, 128))\n",
        "        image = image.convert('RGB')\n",
        "        image = np.array(image)\n",
        "        data.append(image)\n",
        "female_path='/kaggle/input/male-and-female-faces-dataset/Male and Female face dataset/Female Faces'\n",
        "\n",
        "for file in os.listdir(female_path):\n",
        "    file_path = os.path.join(female_path, file)\n",
        "\n",
        "    if os.path.isfile(file_path):\n",
        "        image = Image.open(file_path)\n",
        "        image = image.resize((128, 128))\n",
        "        image = image.convert('RGB')\n",
        "        image = np.array(image)\n",
        "        data.append(image)\n",
        "X=np.array(data)\n",
        "y=np.array(labels)\n",
        "X.shape, y.shape\n",
        "((5418, 128, 128, 3), (5418,))\n",
        "X_train,X_test,y_train,y_test=train_test_split(X,y,test_size=0.1,random_state=2)\n",
        "X_train_scl=X_train/255\n",
        "X_test_scl=X_test/255\n",
        "model=keras.Sequential()\n",
        "model.add(keras.layers.Conv2D(32,kernel_size=(3,3),activation='relu',input_shape=(128,128,3)))\n",
        "model.add(keras.layers.MaxPooling2D(pool_size=(2,2)))\n",
        "\n",
        "model.add(keras.layers.Conv2D(64,kernel_size=(3,3),activation='relu'))\n",
        "model.add(keras.layers.MaxPooling2D(pool_size=(2,2)))\n",
        "\n",
        "model.add(keras.layers.Flatten())\n",
        "\n",
        "model.add(keras.layers.Dense(128,activation='relu'))\n",
        "model.add(keras.layers.Dropout(0.50))\n",
        "\n",
        "model.add(keras.layers.Dense(64,activation='relu'))\n",
        "model.add(keras.layers.Dropout(0.50))\n",
        "\n",
        "model.add(keras.layers.Dense(2,activation='sigmoid'))\n",
        "model.compile(\n",
        "    optimizer='adam',\n",
        "    loss='sparse_categorical_crossentropy',\n",
        "    metrics=['accuracy']\n",
        ")\n",
        "Model=model.fit(X_train_scl,y_train,validation_split=0.1,epochs=10)\n",
        "loss,acc=model.evaluate(X_test_scl,y_test)\n",
        "print('The Accuracy = ',int(acc*100),'%')\n",
        "h = Model\n",
        "\n",
        "plt.plot(h.history['loss'], label='train loss')\n",
        "plt.plot(h.history['val_loss'], label='validation loss')\n",
        "plt.legend()\n",
        "plt.show()"
      ],
      "metadata": {
        "colab": {
          "base_uri": "https://localhost:8080/"
        },
        "id": "sPUYJvqPMxj5",
        "outputId": "ed9d9bee-0d79-47df-9dbe-a5bb8436118c"
      },
      "execution_count": null,
      "outputs": [
        {
          "output_type": "stream",
          "name": "stdout",
          "text": [
            "Path to dataset files: /kaggle/input/male-and-female-faces-dataset\n"
          ]
        },
        {
          "output_type": "stream",
          "name": "stderr",
          "text": [
            "/usr/local/lib/python3.11/dist-packages/PIL/Image.py:1045: UserWarning: Palette images with Transparency expressed in bytes should be converted to RGBA images\n",
            "  warnings.warn(\n",
            "/usr/local/lib/python3.11/dist-packages/keras/src/layers/convolutional/base_conv.py:107: UserWarning: Do not pass an `input_shape`/`input_dim` argument to a layer. When using Sequential models, prefer using an `Input(shape)` object as the first layer in the model instead.\n",
            "  super().__init__(activity_regularizer=activity_regularizer, **kwargs)\n"
          ]
        },
        {
          "output_type": "stream",
          "name": "stdout",
          "text": [
            "Epoch 1/10\n",
            "\u001b[1m138/138\u001b[0m \u001b[32m━━━━━━━━━━━━━━━━━━━━\u001b[0m\u001b[37m\u001b[0m \u001b[1m116s\u001b[0m 818ms/step - accuracy: 0.5962 - loss: 0.8408 - val_accuracy: 0.7561 - val_loss: 0.4675\n",
            "Epoch 2/10\n",
            "\u001b[1m138/138\u001b[0m \u001b[32m━━━━━━━━━━━━━━━━━━━━\u001b[0m\u001b[37m\u001b[0m \u001b[1m140s\u001b[0m 807ms/step - accuracy: 0.8384 - loss: 0.3791 - val_accuracy: 0.8873 - val_loss: 0.2887\n",
            "Epoch 3/10\n",
            "\u001b[1m138/138\u001b[0m \u001b[32m━━━━━━━━━━━━━━━━━━━━\u001b[0m\u001b[37m\u001b[0m \u001b[1m144s\u001b[0m 820ms/step - accuracy: 0.9374 - loss: 0.1706 - val_accuracy: 0.9406 - val_loss: 0.1712\n",
            "Epoch 4/10\n",
            "\u001b[1m 54/138\u001b[0m \u001b[32m━━━━━━━\u001b[0m\u001b[37m━━━━━━━━━━━━━\u001b[0m \u001b[1m1:07\u001b[0m 805ms/step - accuracy: 0.9654 - loss: 0.1146"
          ]
        }
      ]
    },
    {
      "cell_type": "code",
      "source": [
        "loss,acc=model.evaluate(X_test_scl,y_test)\n",
        "print('The Accuracy = ',int(acc*100),'%')"
      ],
      "metadata": {
        "id": "trAqhCWGPecf"
      },
      "execution_count": null,
      "outputs": []
    },
    {
      "cell_type": "code",
      "source": [
        "!pip install fuzzycmeans"
      ],
      "metadata": {
        "id": "wQHTEzWhRisZ"
      },
      "execution_count": null,
      "outputs": []
    },
    {
      "source": [
        "import cv2\n",
        "import numpy as np\n",
        "import skfuzzy as fuzz\n",
        "import skfuzzy.control as ctrl\n",
        "\n",
        "# 1. Define fuzzy input variables (Antecedents)\n",
        "brightness = ctrl.Antecedent(np.arange(0, 256, 1), 'brightness')\n",
        "edge_intensity = ctrl.Antecedent(np.arange(0, 256, 1), 'edge_intensity')\n",
        "\n",
        "# 2. Define fuzzy output variable (Consequent)\n",
        "classification = ctrl.Consequent(np.arange(0, 101, 1), 'classification')\n",
        "\n",
        "# 3. Membership functions for brightness\n",
        "brightness['dark'] = fuzz.trimf(brightness.universe, [0, 50, 100])\n",
        "brightness['normal'] = fuzz.trimf(brightness.universe, [50, 127, 200])\n",
        "brightness['bright'] = fuzz.trimf(brightness.universe, [150, 200, 255])\n",
        "\n",
        "# 4. Membership functions for edge intensity\n",
        "edge_intensity['low'] = fuzz.trimf(edge_intensity.universe, [0, 50, 100])\n",
        "edge_intensity['medium'] = fuzz.trimf(edge_intensity.universe, [50, 127, 200])\n",
        "edge_intensity['high'] = fuzz.trimf(edge_intensity.universe, [150, 200, 255])\n",
        "\n",
        "# 5. Membership functions for classification\n",
        "classification['low'] = fuzz.trimf(classification.universe, [0, 25, 50])\n",
        "classification['medium'] = fuzz.trimf(classification.universe, [25, 50, 75])\n",
        "classification['high'] = fuzz.trimf(classification.universe, [50, 75, 100])\n",
        "\n",
        "# 6. Define fuzzy rules\n",
        "rule1 = ctrl.Rule(brightness['dark'] | edge_intensity['low'], classification['low'])\n",
        "rule2 = ctrl.Rule(brightness['normal'] | edge_intensity['medium'], classification['medium'])\n",
        "rule3 = ctrl.Rule(brightness['bright'] | edge_intensity['high'], classification['high'])\n",
        "\n",
        "# 7. Control system\n",
        "classification_ctrl = ctrl.ControlSystem([rule1, rule2, rule3])\n",
        "classifier = ctrl.ControlSystemSimulation(classification_ctrl)\n",
        "\n",
        "# 8. Real-time classification function\n",
        "def real_time_image_classification():\n",
        "    cap = cv2.VideoCapture(0)\n",
        "\n",
        "    if not cap.isOpened():\n",
        "        print(\"Could not open webcam\")\n",
        "        return\n",
        "\n",
        "    while True:\n",
        "        ret, frame = cap.read()\n",
        "        if not ret:\n",
        "            break\n",
        "\n",
        "        # Convert to grayscale\n",
        "        gray = cv2.cvtColor(frame, cv2.COLOR_BGR2GRAY)\n",
        "\n",
        "        # Calculate average brightness\n",
        "        brightness_value = np.mean(gray)\n",
        "\n",
        "        # Edge detection\n",
        "        edges = cv2.Canny(gray, 100, 200)\n",
        "        edge_intensity_value = np.mean(edges)\n",
        "\n",
        "        # Input values to fuzzy system\n",
        "        classifier.input['brightness'] = brightness_value\n",
        "        classifier.input['edge_intensity'] = edge_intensity_value\n",
        "        classifier.compute()\n",
        "\n",
        "        # Get classification result\n",
        "        classification_result = classifier.output['classification']\n",
        "\n",
        "        # Display result on frame\n",
        "        cv2.putText(frame, f'Classification: {classification_result:.2f}', (10, 50),\n",
        "                    cv2.FONT_HERSHEY_SIMPLEX, 1, (0, 255, 0), 2)\n",
        "\n",
        "        # Show the frame\n",
        "        cv2.imshow('Real-Time Fuzzy Classification', frame)\n",
        "\n",
        "        # Exit on 'q'\n",
        "        if cv2.waitKey(1) & 0xFF == ord('q'):\n",
        "            break\n",
        "\n",
        "    cap.release()\n",
        "    cv2.destroyAllWindows()\n",
        "\n",
        "# 9. Main entry\n",
        "if __name__ == \"__main__\":\n",
        "    real_time_image_classification()\n"
      ],
      "cell_type": "code",
      "metadata": {
        "colab": {
          "base_uri": "https://localhost:8080/"
        },
        "id": "1yTTRGZ9KXdb",
        "outputId": "5f64f19b-cd86-407c-f68d-d1f43ecdf909"
      },
      "execution_count": 7,
      "outputs": [
        {
          "output_type": "stream",
          "name": "stdout",
          "text": [
            "Could not open webcam\n"
          ]
        }
      ]
    },
    {
      "cell_type": "code",
      "source": [
        "import cv2\n",
        "import numpy as np\n",
        "\n",
        "# Open the webcam\n",
        "cap = cv2.VideoCapture(0)\n",
        "\n",
        "# Parameters for K-Means\n",
        "k = 4  # Number of clusters/colors\n",
        "criteria = (cv2.TERM_CRITERIA_EPS + cv2.TERM_CRITERIA_MAX_ITER, 10, 1.0)\n",
        "attempts = 10\n",
        "\n",
        "while True:\n",
        "    ret, frame = cap.read()\n",
        "    if not ret:\n",
        "        break\n",
        "\n",
        "    # Resize frame to reduce processing time\n",
        "    resized_frame = cv2.resize(frame, None, fx=0.5, fy=0.5)\n",
        "\n",
        "    # Reshape the image to a 2D array of pixels (rows: pixels, columns: RGB)\n",
        "    pixel_data = resized_frame.reshape((-1, 3))\n",
        "    pixel_data = np.float32(pixel_data)\n",
        "\n",
        "    # Apply K-means clustering\n",
        "    _, labels, centers = cv2.kmeans(\n",
        "        pixel_data, k, None, criteria, attempts, cv2.KMEANS_PP_CENTERS\n",
        "    )\n",
        "\n",
        "    # Convert centers to 8-bit values\n",
        "    centers = np.uint8(centers)\n",
        "\n",
        "    # Replace each pixel with its center value\n",
        "    segmented_data = centers[labels.flatten()]\n",
        "    segmented_image = segmented_data.reshape(resized_frame.shape)\n",
        "\n",
        "    # Display the segmented image\n",
        "    cv2.imshow('Real-Time K-Means Clustering', segmented_image)\n",
        "\n",
        "    # Exit loop on 'q' key press\n",
        "    if cv2.waitKey(1) & 0xFF == ord('q'):\n",
        "        break\n",
        "\n",
        "# Cleanup\n",
        "cap.release()\n",
        "cv2.destroyAllWindows()\n"
      ],
      "metadata": {
        "id": "ifaqz-kpQx9y"
      },
      "execution_count": null,
      "outputs": []
    }
  ]
}